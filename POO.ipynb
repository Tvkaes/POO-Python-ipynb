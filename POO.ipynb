{
 "metadata": {
  "language_info": {
   "codemirror_mode": {
    "name": "ipython",
    "version": 3
   },
   "file_extension": ".py",
   "mimetype": "text/x-python",
   "name": "python",
   "nbconvert_exporter": "python",
   "pygments_lexer": "ipython3",
   "version": "3.9.2"
  },
  "orig_nbformat": 2,
  "kernelspec": {
   "name": "python392jvsc74a57bd0564b879ed96319b2d3bdf289036559bd97cfb3bb6a1a940f1b6a62560ae7fa39",
   "display_name": "Python 3.9.2 64-bit"
  },
  "metadata": {
   "interpreter": {
    "hash": "564b879ed96319b2d3bdf289036559bd97cfb3bb6a1a940f1b6a62560ae7fa39"
   }
  }
 },
 "nbformat": 4,
 "nbformat_minor": 2,
 "cells": [
  {
   "cell_type": "code",
   "execution_count": 2,
   "metadata": {},
   "outputs": [
    {
     "output_type": "stream",
     "name": "stdout",
     "text": [
      "Ingresa el modelo de tu Celular\n",
      "Ingresa la marca de tu Celular\n",
      "Ingresa el espacio de almacenamiento de tu Celular\n",
      "Tu modelo es samsung de la marca j7 de 64Gb de almacenamiento\n"
     ]
    }
   ],
   "source": [
    "class Telefono():\n",
    "    def __init__ (self,espacio,modelo,marca):\n",
    "        self.espacio = espacio\n",
    "        self.modelo = modelo\n",
    "        self.marca = marca\n",
    "\n",
    "    def imprimir(self):\n",
    "        imprmr = (f\"Tu modelo es {modelo} de la marca {marca} de {espacio}Gb de almacenamiento\")\n",
    "        print(imprmr)\n",
    "\n",
    "\n",
    "          \n",
    "print(\"Ingresa el modelo de tu Celular\")\n",
    "modelo = input()\n",
    "print(\"Ingresa la marca de tu Celular\")\n",
    "marca = input()\n",
    "print(\"Ingresa el espacio de almacenamiento de tu Celular\")\n",
    "espacio = input()\n",
    "\n",
    "telefono1 = Telefono(espacio,modelo,marca)\n",
    "telefono1.imprimir()\n",
    "\n",
    "    \n"
   ]
  },
  {
   "cell_type": "code",
   "execution_count": null,
   "metadata": {},
   "outputs": [],
   "source": []
  }
 ]
}